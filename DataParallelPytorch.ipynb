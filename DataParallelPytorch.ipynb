{
  "nbformat": 4,
  "nbformat_minor": 0,
  "metadata": {
    "colab": {
      "provenance": [],
      "gpuType": "T4",
      "authorship_tag": "ABX9TyOu3CoCpFCXxaGO0oGoHPwZ",
      "include_colab_link": true
    },
    "kernelspec": {
      "name": "python3",
      "display_name": "Python 3"
    },
    "language_info": {
      "name": "python"
    },
    "accelerator": "GPU"
  },
  "cells": [
    {
      "cell_type": "markdown",
      "metadata": {
        "id": "view-in-github",
        "colab_type": "text"
      },
      "source": [
        "<a href=\"https://colab.research.google.com/github/RajAakash/TransferLearningPytorch/blob/main/DataParallelPytorch.ipynb\" target=\"_parent\"><img src=\"https://colab.research.google.com/assets/colab-badge.svg\" alt=\"Open In Colab\"/></a>"
      ]
    },
    {
      "cell_type": "code",
      "execution_count": 1,
      "metadata": {
        "colab": {
          "base_uri": "https://localhost:8080/"
        },
        "id": "xLuY68dO9wVE",
        "outputId": "7325e81c-5db4-4163-d4c0-55fc4faac7e8"
      },
      "outputs": [
        {
          "output_type": "stream",
          "name": "stdout",
          "text": [
            "Training completed!\n"
          ]
        }
      ],
      "source": [
        "import torch\n",
        "import torch.nn as nn\n",
        "import torch.optim as optim\n",
        "\n",
        "# Define a large neural network that doesn't fit in a single GPU\n",
        "class LargeModel(nn.Module):\n",
        "    def __init__(self):\n",
        "        super(LargeModel, self).__init__()\n",
        "        self.layer1 = nn.Linear(10000, 5000)\n",
        "        self.layer2 = nn.Linear(5000, 1000)\n",
        "\n",
        "    def forward(self, x):\n",
        "        x = self.layer1(x)\n",
        "        x = self.layer2(x)\n",
        "        return x\n",
        "\n",
        "model = LargeModel()\n",
        "\n",
        "if torch.cuda.is_available():\n",
        "    device = torch.device(\"cuda\")\n",
        "else:\n",
        "    device = torch.device(\"cpu\")\n",
        "\n",
        "model = model.to(device)\n",
        "if device.type == \"cuda\" and torch.cuda.device_count() > 1:\n",
        "    print('I have multiple GPU\\'s and run in parallel')\n",
        "    model = nn.DataParallel(model)\n",
        "\n",
        "data = torch.randn(64, 10000).to(device)\n",
        "target = torch.randn(64, 1000).to(device)\n",
        "dataset = torch.utils.data.TensorDataset(data, target)\n",
        "dataloader = torch.utils.data.DataLoader(dataset, batch_size=16)\n",
        "\n",
        "criterion = nn.MSELoss()\n",
        "optimizer = optim.SGD(model.parameters(), lr=0.01)\n",
        "\n",
        "for epoch in range(10):\n",
        "    for inputs, labels in dataloader:\n",
        "        optimizer.zero_grad()\n",
        "        outputs = model(inputs)\n",
        "        loss = criterion(outputs, labels)\n",
        "        loss.backward()\n",
        "        optimizer.step()\n",
        "\n",
        "print(\"Training completed!\")"
      ]
    },
    {
      "cell_type": "code",
      "source": [
        "import torch\n",
        "\n",
        "# Check if CUDA (GPU) is available\n",
        "if torch.cuda.is_available():\n",
        "    device_count = torch.cuda.device_count()\n",
        "    print(f\"Number of available GPUs: {device_count}\")\n",
        "\n",
        "    for i in range(device_count):\n",
        "        gpu = torch.device(f\"cuda:{i}\")\n",
        "        print(f\"GPU {i} - {torch.cuda.get_device_name(gpu)}\")\n",
        "        print(f\"Utilization: {torch.cuda.max_memory_allocated(gpu) / 1024**2:.2f} MB\")"
      ],
      "metadata": {
        "colab": {
          "base_uri": "https://localhost:8080/"
        },
        "id": "r_ZpqvLZBDTN",
        "outputId": "d265073c-6349-499f-e1f0-8d823528c69e"
      },
      "execution_count": 2,
      "outputs": [
        {
          "output_type": "stream",
          "name": "stdout",
          "text": [
            "Number of available GPUs: 1\n",
            "GPU 0 - Tesla T4\n",
            "Utilization: 442.71 MB\n"
          ]
        }
      ]
    }
  ]
}